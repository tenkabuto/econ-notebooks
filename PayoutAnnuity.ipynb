{
 "cells": [
  {
   "cell_type": "markdown",
   "metadata": {},
   "source": [
    "# Payout Annuity\n",
    "Writ while referencing [the formula for Payout Annuities provided here](https://courses.lumenlearning.com/math4libarts/chapter/payout-annuities/)."
   ]
  },
  {
   "cell_type": "markdown",
   "metadata": {},
   "source": [
    "## Code for Calculating Principal in Python\n",
    "Using the link article's variable names, quoted below:\n",
    "\n",
    "```\n",
    "P0 is the balance in the account at the beginning (starting amount, or principal).\n",
    "\n",
    "d is the regular withdrawal (the amount you take out each year, each month, etc.)\n",
    "\n",
    "r is the annual interest rate (in decimal form. Example: 5% = 0.05)\n",
    "\n",
    "k is the number of compounding periods in one year.\n",
    "\n",
    "N is the number of years we plan to take withdrawals\n",
    "```"
   ]
  },
  {
   "cell_type": "code",
   "execution_count": 1,
   "metadata": {},
   "outputs": [
    {
     "name": "stdout",
     "output_type": "stream",
     "text": [
      "Principal needed is $59.95127842414405\n",
      "From $60, a percentage difference of -0.08120262642658341%\n"
     ]
    }
   ],
   "source": [
    "d = 5\n",
    "r = .0015\n",
    "k = 12\n",
    "N = 1\n",
    "\n",
    "P = (d*(1-(1+(r/k))**(-N*k)))/(r/k)\n",
    "print(f\"Principal needed is ${P}\")\n",
    "\n",
    "regular = 60\n",
    "percentage_diff = (P - regular)/regular\n",
    "\n",
    "print(f\"From ${regular}, a percentage difference of {percentage_diff * 100}%\")"
   ]
  },
  {
   "cell_type": "markdown",
   "metadata": {},
   "source": [
    "## Interactive Calculator via Widgets"
   ]
  },
  {
   "cell_type": "code",
   "execution_count": 2,
   "metadata": {},
   "outputs": [],
   "source": [
    "from __future__ import print_function\n",
    "from ipywidgets import interact, interactive, fixed, interact_manual\n",
    "import ipywidgets as widgets"
   ]
  },
  {
   "cell_type": "code",
   "execution_count": 3,
   "metadata": {},
   "outputs": [
    {
     "data": {
      "application/vnd.jupyter.widget-view+json": {
       "model_id": "4bede60dffbd4fe493e0c33f10525bfe",
       "version_major": 2,
       "version_minor": 0
      },
      "text/plain": [
       "interactive(children=(IntSlider(value=5, description='d', max=15, min=-5), BoundedFloatText(value=0.0015, desc…"
      ]
     },
     "metadata": {},
     "output_type": "display_data"
    }
   ],
   "source": [
    "@interact(d=5,\n",
    "          r=widgets.BoundedFloatText(\n",
    "              value=0.0015,\n",
    "              min=0,\n",
    "              max=0.025,\n",
    "              step=0.001),\n",
    "          k=12,\n",
    "          N=1)\n",
    "\n",
    "def P(d, r, k, N):\n",
    "    P = (d*(1-(1+(r/k))**(-N*k)))/(r/k)\n",
    "    print(f\"Principal needed is ${P}\")\n",
    "    \n",
    "    regular = d*k*N\n",
    "    percentage_diff = (P - regular)/regular\n",
    "    \n",
    "    print(f\"From ${regular}, a percentage difference of {percentage_diff * 100}%\")"
   ]
  },
  {
   "cell_type": "markdown",
   "metadata": {},
   "source": [
    "### Issue with sliders\n",
    "The automatically produced sliders do not seem to handle decimal places in floats well. `0.0015`, for instance, keeps getting outputted at `0.00`. To get around this, I use a text area for `r`, whose value wasn't being accepted."
   ]
  }
 ],
 "metadata": {
  "kernelspec": {
   "display_name": "Python 3",
   "language": "python",
   "name": "python3"
  },
  "language_info": {
   "codemirror_mode": {
    "name": "ipython",
    "version": 3
   },
   "file_extension": ".py",
   "mimetype": "text/x-python",
   "name": "python",
   "nbconvert_exporter": "python",
   "pygments_lexer": "ipython3",
   "version": "3.7.1"
  }
 },
 "nbformat": 4,
 "nbformat_minor": 2
}

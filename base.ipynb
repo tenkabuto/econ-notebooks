{
 "cells": [
  {
   "cell_type": "code",
   "execution_count": 1,
   "metadata": {},
   "outputs": [],
   "source": [
    "from ipywidgets import interact, interactive, fixed, interact_manual\n",
    "import ipywidgets as widgets"
   ]
  },
  {
   "cell_type": "code",
   "execution_count": 2,
   "metadata": {},
   "outputs": [
    {
     "data": {
      "application/vnd.jupyter.widget-view+json": {
       "model_id": "1c2cd66dc6cf443da2c852323f787c3b",
       "version_major": 2,
       "version_minor": 0
      },
      "text/html": [
       "<p>Failed to display Jupyter Widget of type <code>interactive</code>.</p>\n",
       "<p>\n",
       "  If you're reading this message in the Jupyter Notebook or JupyterLab Notebook, it may mean\n",
       "  that the widgets JavaScript is still loading. If this message persists, it\n",
       "  likely means that the widgets JavaScript library is either not installed or\n",
       "  not enabled. See the <a href=\"https://ipywidgets.readthedocs.io/en/stable/user_install.html\">Jupyter\n",
       "  Widgets Documentation</a> for setup instructions.\n",
       "</p>\n",
       "<p>\n",
       "  If you're reading this message in another frontend (for example, a static\n",
       "  rendering on GitHub or <a href=\"https://nbviewer.jupyter.org/\">NBViewer</a>),\n",
       "  it may mean that your frontend doesn't currently support widgets.\n",
       "</p>\n"
      ],
      "text/plain": [
       "interactive(children=(IntSlider(value=3, description='b', max=9, min=-3), Button(description='Run Interact', style=ButtonStyle()), Output()), _dom_classes=('widget-interact',))"
      ]
     },
     "metadata": {},
     "output_type": "display_data"
    }
   ],
   "source": [
    "import matplotlib.pyplot as plt\n",
    "plt.style.use('seaborn-darkgrid')\n",
    "\n",
    "# Need to label axes\n",
    "\n",
    "def tweak_plot(b):\n",
    "\n",
    "    ts_length = 50\n",
    "    t_values = []   # Empty list\n",
    "\n",
    "    ya_values = []   # Empty list\n",
    "\n",
    "    yb_values = []   # Empty list\n",
    "\n",
    "    for t in range(ts_length):\n",
    "        t_values.append(t)\n",
    "\n",
    "        # Baseline\n",
    "        ya = t * 2.5\n",
    "        \n",
    "        # growth y = growth k\n",
    "        \n",
    "        # Production function: yt = A * K^alpha * L^(1-alpha)\n",
    "        ya_values.append(ya)\n",
    "\n",
    "        # Modified\n",
    "        yb = t * b # Using input from slider, `b`\n",
    "        yb_values.append(yb)\n",
    "\n",
    "    fig, ax = plt.subplots()\n",
    "    \n",
    "    ax.plot(t_values, ya_values, color='red', linewidth=2, linestyle=\"--\", alpha=0.6) # First plot: unlabeled, smaller linewidth, alpha reduced\n",
    "    ax.annotate('baseline result',\n",
    "             xy=(ts_length, ya), xycoords='data',\n",
    "             xytext=(20, 20), textcoords='offset points', fontsize=16,\n",
    "             arrowprops=dict(arrowstyle=\"->\", connectionstyle=\"arc3,rad=.2\"))\n",
    "    \n",
    "    ax.plot(t_values, yb_values, color='red', linewidth=4, linestyle=\"-\", label='growth') # Second plot\n",
    "    ax.annotate('your result',\n",
    "             xy=(ts_length, yb), xycoords='data',\n",
    "             xytext=(20, 20), textcoords='offset points', fontsize=16,\n",
    "             arrowprops=dict(arrowstyle=\"->\", connectionstyle=\"arc3,rad=.2\"))\n",
    "    \n",
    "    ax.legend(loc='upper left')\n",
    "    \n",
    "    plt.show()\n",
    "\n",
    "interact_manual(tweak_plot, b=3);"
   ]
  },
  {
   "cell_type": "code",
   "execution_count": 3,
   "metadata": {},
   "outputs": [
    {
     "data": {
      "image/png": "[encoded data removed]",
      "text/plain": [
       "<matplotlib.figure.Figure at 0x7f5954728358>"
      ]
     },
     "metadata": {},
     "output_type": "display_data"
    }
   ],
   "source": [
    "# To output an example plot\n",
    "tweak_plot(2.75)"
   ]
  }
 ],
 "metadata": {
  "kernel_info": {
   "name": "python3"
  },
  "kernelspec": {
   "display_name": "Python 3",
   "language": "python",
   "name": "python3"
  },
  "language_info": {
   "codemirror_mode": {
    "name": "ipython",
    "version": 3
   },
   "file_extension": ".py",
   "mimetype": "text/x-python",
   "name": "python",
   "nbconvert_exporter": "python",
   "pygments_lexer": "ipython3",
   "version": "3.6.4"
  },
  "nteract": {
   "version": "0.8.4"
  }
 },
 "nbformat": 4,
 "nbformat_minor": 2
}
